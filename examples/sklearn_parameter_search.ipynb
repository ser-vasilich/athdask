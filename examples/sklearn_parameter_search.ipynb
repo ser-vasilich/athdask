{
 "cells": [
  {
   "cell_type": "code",
   "execution_count": 1,
   "metadata": {
    "collapsed": true
   },
   "outputs": [],
   "source": [
    "from distributed import Executor, progress"
   ]
  },
  {
   "cell_type": "code",
   "execution_count": 2,
   "metadata": {
    "collapsed": false
   },
   "outputs": [],
   "source": [
    "e = Executor('dscheduler:8786')"
   ]
  },
  {
   "cell_type": "code",
   "execution_count": 3,
   "metadata": {
    "collapsed": false
   },
   "outputs": [
    {
     "data": {
      "text/plain": [
       "<Executor: scheduler=dscheduler:8786 processes=3 cores=96>"
      ]
     },
     "execution_count": 3,
     "metadata": {},
     "output_type": "execute_result"
    }
   ],
   "source": [
    "e.restart()"
   ]
  },
  {
   "cell_type": "code",
   "execution_count": 4,
   "metadata": {
    "collapsed": false
   },
   "outputs": [
    {
     "data": {
      "text/plain": [
       "0"
      ]
     },
     "execution_count": 4,
     "metadata": {},
     "output_type": "execute_result"
    }
   ],
   "source": [
    "import subprocess\n",
    "\n",
    "\n",
    "def install_libs():\n",
    "    libs = 'scikit-learn pandas matplotlib'.split()\n",
    "    return subprocess.check_call('conda install -yq'.split() + libs)\n",
    "\n",
    "install_libs()"
   ]
  },
  {
   "cell_type": "code",
   "execution_count": 5,
   "metadata": {
    "collapsed": false
   },
   "outputs": [
    {
     "data": {
      "text/plain": [
       "{'10.112.0.5:51677': 0, '10.112.1.5:48459': 0, '10.112.2.3:53727': 0}"
      ]
     },
     "execution_count": 5,
     "metadata": {},
     "output_type": "execute_result"
    }
   ],
   "source": [
    "e.run(install_libs)"
   ]
  },
  {
   "cell_type": "markdown",
   "metadata": {},
   "source": [
    "## Hyperparameter search for sklearn"
   ]
  },
  {
   "cell_type": "code",
   "execution_count": 6,
   "metadata": {
    "collapsed": false
   },
   "outputs": [],
   "source": [
    "from sklearn.datasets import load_digits\n",
    "import numpy as np\n",
    "\n",
    "digits = load_digits()"
   ]
  },
  {
   "cell_type": "code",
   "execution_count": 9,
   "metadata": {
    "collapsed": false
   },
   "outputs": [
    {
     "data": {
      "image/png": "[encoded data removed]",
      "text/plain": [
       "<matplotlib.figure.Figure at 0x7ff847b866d8>"
      ]
     },
     "metadata": {},
     "output_type": "display_data"
    }
   ],
   "source": [
    "%matplotlib inline\n",
    "import matplotlib.pyplot as plt\n",
    "\n",
    "plt.imshow(digits.data[35].reshape(8, 8),\n",
    "           interpolation='nearest', cmap='gray');"
   ]
  },
  {
   "cell_type": "markdown",
   "metadata": {},
   "source": [
    "### Sequential random parameter search"
   ]
  },
  {
   "cell_type": "code",
   "execution_count": 14,
   "metadata": {
    "collapsed": false
   },
   "outputs": [],
   "source": [
    "from sklearn.cross_validation import train_test_split\n",
    "\n",
    "\n",
    "def load_cv_split(split_idx):\n",
    "    data = load_digits()\n",
    "    splitted = train_test_split(data.data, data.target,\n",
    "                                test_size=0.20,\n",
    "                                random_state=split_idx)\n",
    "    return split_idx, splitted"
   ]
  },
  {
   "cell_type": "code",
   "execution_count": 15,
   "metadata": {
    "collapsed": false
   },
   "outputs": [],
   "source": [
    "from time import time\n",
    "from sklearn.externals.joblib import hash\n",
    "\n",
    "\n",
    "def evaluate_one(model_class, parameters, cv_split):\n",
    "    split_idx, (X_train, X_val, y_train, y_val) = cv_split\n",
    "    t0 = time()\n",
    "    model = model_class(**parameters).fit(X_train, y_train)\n",
    "    training_time = time() - t0\n",
    "\n",
    "    train_score = model.score(X_train, y_train)\n",
    "    validation_score = model.score(X_val, y_val)\n",
    "    \n",
    "    results = {\n",
    "        'split_idx': split_idx,\n",
    "        'training_time': training_time,\n",
    "        'train_score': train_score,\n",
    "        'val_score': validation_score,\n",
    "        'parameters': parameters,\n",
    "        'parameters_hash': hash(parameters),\n",
    "    }\n",
    "    return results"
   ]
  },
  {
   "cell_type": "code",
   "execution_count": 16,
   "metadata": {
    "collapsed": false
   },
   "outputs": [
    {
     "name": "stdout",
     "output_type": "stream",
     "text": [
      "CPU times: user 4.34 s, sys: 4 ms, total: 4.34 s\n",
      "Wall time: 4.32 s\n"
     ]
    }
   ],
   "source": [
    "%%time\n",
    "from sklearn.svm import SVC\n",
    "from sklearn.grid_search import ParameterSampler\n",
    "import numpy as np\n",
    "import pandas as pd\n",
    "\n",
    "param_grid = {\n",
    "    'C': np.logspace(-10, 10, 1001),\n",
    "    'gamma': np.logspace(-10, 10, 1001),\n",
    "    'tol': np.logspace(-4, -1, 4),\n",
    "}\n",
    "\n",
    "param_space = ParameterSampler(param_grid, 3)\n",
    "\n",
    "cv_splits = [load_cv_split(i) for i in range(2)]\n",
    "\n",
    "results = [evaluate_one(SVC, params, split)\n",
    "           for split in cv_splits\n",
    "           for params in param_space]"
   ]
  },
  {
   "cell_type": "code",
   "execution_count": 17,
   "metadata": {
    "collapsed": false
   },
   "outputs": [
    {
     "data": {
      "text/html": [
       "<div>\n",
       "<table border=\"1\" class=\"dataframe\">\n",
       "  <thead>\n",
       "    <tr style=\"text-align: right;\">\n",
       "      <th></th>\n",
       "      <th>parameters</th>\n",
       "      <th>split_idx</th>\n",
       "      <th>train_score</th>\n",
       "      <th>training_time</th>\n",
       "      <th>val_score</th>\n",
       "    </tr>\n",
       "  </thead>\n",
       "  <tbody>\n",
       "    <tr>\n",
       "      <th>0</th>\n",
       "      <td>{'tol': 0.0001, 'gamma': 13.1825673856, 'C': 0...</td>\n",
       "      <td>0</td>\n",
       "      <td>0.107168</td>\n",
       "      <td>0.415914</td>\n",
       "      <td>0.080556</td>\n",
       "    </tr>\n",
       "    <tr>\n",
       "      <th>1</th>\n",
       "      <td>{'tol': 0.1, 'gamma': 2.29086765277, 'C': 1995...</td>\n",
       "      <td>0</td>\n",
       "      <td>1.000000</td>\n",
       "      <td>0.382794</td>\n",
       "      <td>0.080556</td>\n",
       "    </tr>\n",
       "    <tr>\n",
       "      <th>2</th>\n",
       "      <td>{'tol': 0.0001, 'gamma': 6.3095734448e-09, 'C'...</td>\n",
       "      <td>0</td>\n",
       "      <td>0.107168</td>\n",
       "      <td>0.453139</td>\n",
       "      <td>0.080556</td>\n",
       "    </tr>\n",
       "    <tr>\n",
       "      <th>3</th>\n",
       "      <td>{'tol': 0.0001, 'gamma': 1096478196.14, 'C': 6...</td>\n",
       "      <td>1</td>\n",
       "      <td>0.105776</td>\n",
       "      <td>0.385342</td>\n",
       "      <td>0.083333</td>\n",
       "    </tr>\n",
       "    <tr>\n",
       "      <th>4</th>\n",
       "      <td>{'tol': 0.01, 'gamma': 4570881.89615, 'C': 4.7...</td>\n",
       "      <td>1</td>\n",
       "      <td>0.105776</td>\n",
       "      <td>0.390770</td>\n",
       "      <td>0.083333</td>\n",
       "    </tr>\n",
       "    <tr>\n",
       "      <th>5</th>\n",
       "      <td>{'tol': 0.0001, 'gamma': 1.04712854805, 'C': 1...</td>\n",
       "      <td>1</td>\n",
       "      <td>1.000000</td>\n",
       "      <td>0.509900</td>\n",
       "      <td>0.083333</td>\n",
       "    </tr>\n",
       "  </tbody>\n",
       "</table>\n",
       "</div>"
      ],
      "text/plain": [
       "                                          parameters  split_idx  train_score  \\\n",
       "0  {'tol': 0.0001, 'gamma': 13.1825673856, 'C': 0...          0     0.107168   \n",
       "1  {'tol': 0.1, 'gamma': 2.29086765277, 'C': 1995...          0     1.000000   \n",
       "2  {'tol': 0.0001, 'gamma': 6.3095734448e-09, 'C'...          0     0.107168   \n",
       "3  {'tol': 0.0001, 'gamma': 1096478196.14, 'C': 6...          1     0.105776   \n",
       "4  {'tol': 0.01, 'gamma': 4570881.89615, 'C': 4.7...          1     0.105776   \n",
       "5  {'tol': 0.0001, 'gamma': 1.04712854805, 'C': 1...          1     1.000000   \n",
       "\n",
       "   training_time  val_score  \n",
       "0       0.415914   0.080556  \n",
       "1       0.382794   0.080556  \n",
       "2       0.453139   0.080556  \n",
       "3       0.385342   0.083333  \n",
       "4       0.390770   0.083333  \n",
       "5       0.509900   0.083333  "
      ]
     },
     "execution_count": 17,
     "metadata": {},
     "output_type": "execute_result"
    }
   ],
   "source": [
    "pd.DataFrame.from_dict(results).drop('parameters_hash', 1)"
   ]
  },
  {
   "cell_type": "markdown",
   "metadata": {},
   "source": [
    "### Scaling out with dask + distributed"
   ]
  },
  {
   "cell_type": "code",
   "execution_count": 18,
   "metadata": {
    "collapsed": false
   },
   "outputs": [
    {
     "data": {
      "text/plain": [
       "96"
      ]
     },
     "execution_count": 18,
     "metadata": {},
     "output_type": "execute_result"
    }
   ],
   "source": [
    "e = Executor('dscheduler:8786').restart()\n",
    "n_cores = sum(e.ncores().values())\n",
    "n_cores"
   ]
  },
  {
   "cell_type": "code",
   "execution_count": 19,
   "metadata": {
    "collapsed": false
   },
   "outputs": [],
   "source": [
    "from dask import delayed\n",
    "\n",
    "\n",
    "param_space = ParameterSampler(param_grid, n_cores * 10)\n",
    "\n",
    "cv_splits = [delayed(load_cv_split)(i) for i in range(3)]\n",
    "        \n",
    "delayed_evaluations = [delayed(evaluate_one)(SVC, params, split)\n",
    "                       for split in cv_splits\n",
    "                       for params in param_space]"
   ]
  },
  {
   "cell_type": "code",
   "execution_count": 20,
   "metadata": {
    "collapsed": false
   },
   "outputs": [
    {
     "data": {
      "text/plain": [
       "[Delayed('evaluate_one-eda62160-c097-45b1-94eb-99f5bdae64b9'),\n",
       " Delayed('evaluate_one-8c3582b4-9682-428d-a947-650a23eceb7a'),\n",
       " Delayed('evaluate_one-098b15f3-7952-4efc-be6b-c8eec9328abd'),\n",
       " Delayed('evaluate_one-f0e45dab-d6af-488e-97f5-4cd8b823e2bb'),\n",
       " Delayed('evaluate_one-24fe0893-259f-4e9c-a813-6bc79326ec7a')]"
      ]
     },
     "execution_count": 20,
     "metadata": {},
     "output_type": "execute_result"
    }
   ],
   "source": [
    "delayed_evaluations[:5]"
   ]
  },
  {
   "cell_type": "code",
   "execution_count": 21,
   "metadata": {
    "collapsed": true
   },
   "outputs": [],
   "source": [
    "all_results = e.compute(delayed_evaluations)"
   ]
  },
  {
   "cell_type": "code",
   "execution_count": 22,
   "metadata": {
    "collapsed": false
   },
   "outputs": [],
   "source": [
    "progress(all_results)"
   ]
  },
  {
   "cell_type": "code",
   "execution_count": 24,
   "metadata": {
    "collapsed": false
   },
   "outputs": [
    {
     "data": {
      "text/html": [
       "<div>\n",
       "<table border=\"1\" class=\"dataframe\">\n",
       "  <thead>\n",
       "    <tr style=\"text-align: right;\">\n",
       "      <th></th>\n",
       "      <th>split_idx</th>\n",
       "      <th>train_score</th>\n",
       "      <th>training_time</th>\n",
       "      <th>val_score</th>\n",
       "    </tr>\n",
       "  </thead>\n",
       "  <tbody>\n",
       "    <tr>\n",
       "      <th>count</th>\n",
       "      <td>2880.000000</td>\n",
       "      <td>2880.000000</td>\n",
       "      <td>2880.000000</td>\n",
       "      <td>2880.000000</td>\n",
       "    </tr>\n",
       "    <tr>\n",
       "      <th>mean</th>\n",
       "      <td>1.000000</td>\n",
       "      <td>0.545338</td>\n",
       "      <td>0.620006</td>\n",
       "      <td>0.247204</td>\n",
       "    </tr>\n",
       "    <tr>\n",
       "      <th>std</th>\n",
       "      <td>0.816638</td>\n",
       "      <td>0.443138</td>\n",
       "      <td>0.229472</td>\n",
       "      <td>0.342157</td>\n",
       "    </tr>\n",
       "    <tr>\n",
       "      <th>min</th>\n",
       "      <td>0.000000</td>\n",
       "      <td>0.105776</td>\n",
       "      <td>0.054810</td>\n",
       "      <td>0.077778</td>\n",
       "    </tr>\n",
       "    <tr>\n",
       "      <th>25%</th>\n",
       "      <td>0.000000</td>\n",
       "      <td>0.105776</td>\n",
       "      <td>0.599414</td>\n",
       "      <td>0.077778</td>\n",
       "    </tr>\n",
       "    <tr>\n",
       "      <th>50%</th>\n",
       "      <td>1.000000</td>\n",
       "      <td>0.160404</td>\n",
       "      <td>0.673221</td>\n",
       "      <td>0.080556</td>\n",
       "    </tr>\n",
       "    <tr>\n",
       "      <th>75%</th>\n",
       "      <td>2.000000</td>\n",
       "      <td>1.000000</td>\n",
       "      <td>0.750152</td>\n",
       "      <td>0.083333</td>\n",
       "    </tr>\n",
       "    <tr>\n",
       "      <th>max</th>\n",
       "      <td>2.000000</td>\n",
       "      <td>1.000000</td>\n",
       "      <td>1.145116</td>\n",
       "      <td>0.994444</td>\n",
       "    </tr>\n",
       "  </tbody>\n",
       "</table>\n",
       "</div>"
      ],
      "text/plain": [
       "         split_idx  train_score  training_time    val_score\n",
       "count  2880.000000  2880.000000    2880.000000  2880.000000\n",
       "mean      1.000000     0.545338       0.620006     0.247204\n",
       "std       0.816638     0.443138       0.229472     0.342157\n",
       "min       0.000000     0.105776       0.054810     0.077778\n",
       "25%       0.000000     0.105776       0.599414     0.077778\n",
       "50%       1.000000     0.160404       0.673221     0.080556\n",
       "75%       2.000000     1.000000       0.750152     0.083333\n",
       "max       2.000000     1.000000       1.145116     0.994444"
      ]
     },
     "execution_count": 24,
     "metadata": {},
     "output_type": "execute_result"
    }
   ],
   "source": [
    "results = e.gather([f for f in all_results if f.done()])\n",
    "results = pd.DataFrame.from_dict(results)\n",
    "results.describe()"
   ]
  },
  {
   "cell_type": "code",
   "execution_count": 25,
   "metadata": {
    "collapsed": false
   },
   "outputs": [
    {
     "data": {
      "image/png": "[encoded data removed]",
      "text/plain": [
       "<matplotlib.figure.Figure at 0x7ff84408f6d8>"
      ]
     },
     "metadata": {},
     "output_type": "display_data"
    }
   ],
   "source": [
    "plt.figure(figsize=(8, 2))\n",
    "bins = np.linspace(0, 1, 100)\n",
    "results['val_score'].plot(kind='hist', bins=bins);"
   ]
  },
  {
   "cell_type": "markdown",
   "metadata": {},
   "source": [
    "### Aggregation of scores across CV folds"
   ]
  },
  {
   "cell_type": "code",
   "execution_count": 26,
   "metadata": {
    "collapsed": false
   },
   "outputs": [
    {
     "data": {
      "text/html": [
       "<div>\n",
       "<table border=\"1\" class=\"dataframe\">\n",
       "  <thead>\n",
       "    <tr style=\"text-align: right;\">\n",
       "      <th></th>\n",
       "      <th>training_time</th>\n",
       "      <th>val_score</th>\n",
       "      <th>train_score</th>\n",
       "      <th>C</th>\n",
       "      <th>gamma</th>\n",
       "      <th>tol</th>\n",
       "    </tr>\n",
       "  </thead>\n",
       "  <tbody>\n",
       "    <tr>\n",
       "      <th>56</th>\n",
       "      <td>0.218744</td>\n",
       "      <td>0.994444</td>\n",
       "      <td>0.998608</td>\n",
       "      <td>6.606934e-01</td>\n",
       "      <td>9.549926e-04</td>\n",
       "      <td>0.0010</td>\n",
       "    </tr>\n",
       "    <tr>\n",
       "      <th>1065</th>\n",
       "      <td>0.347353</td>\n",
       "      <td>0.994444</td>\n",
       "      <td>1.000000</td>\n",
       "      <td>3.467369e+02</td>\n",
       "      <td>1.737801e-03</td>\n",
       "      <td>0.0001</td>\n",
       "    </tr>\n",
       "    <tr>\n",
       "      <th>1103</th>\n",
       "      <td>0.297653</td>\n",
       "      <td>0.994444</td>\n",
       "      <td>1.000000</td>\n",
       "      <td>1.905461e+00</td>\n",
       "      <td>1.659587e-03</td>\n",
       "      <td>0.0010</td>\n",
       "    </tr>\n",
       "    <tr>\n",
       "      <th>125</th>\n",
       "      <td>0.342021</td>\n",
       "      <td>0.994444</td>\n",
       "      <td>1.000000</td>\n",
       "      <td>6.606934e+04</td>\n",
       "      <td>1.737801e-03</td>\n",
       "      <td>0.0001</td>\n",
       "    </tr>\n",
       "    <tr>\n",
       "      <th>1860</th>\n",
       "      <td>0.337327</td>\n",
       "      <td>0.994444</td>\n",
       "      <td>1.000000</td>\n",
       "      <td>3.311311e+06</td>\n",
       "      <td>1.659587e-03</td>\n",
       "      <td>0.0010</td>\n",
       "    </tr>\n",
       "    <tr>\n",
       "      <th>2285</th>\n",
       "      <td>0.119202</td>\n",
       "      <td>0.991667</td>\n",
       "      <td>1.000000</td>\n",
       "      <td>8.709636e+07</td>\n",
       "      <td>2.630268e-06</td>\n",
       "      <td>0.0010</td>\n",
       "    </tr>\n",
       "    <tr>\n",
       "      <th>900</th>\n",
       "      <td>0.076256</td>\n",
       "      <td>0.991667</td>\n",
       "      <td>1.000000</td>\n",
       "      <td>1.047129e+05</td>\n",
       "      <td>1.380384e-07</td>\n",
       "      <td>0.0100</td>\n",
       "    </tr>\n",
       "    <tr>\n",
       "      <th>53</th>\n",
       "      <td>0.136052</td>\n",
       "      <td>0.991667</td>\n",
       "      <td>1.000000</td>\n",
       "      <td>6.918310e+01</td>\n",
       "      <td>5.248075e-04</td>\n",
       "      <td>0.0010</td>\n",
       "    </tr>\n",
       "    <tr>\n",
       "      <th>1560</th>\n",
       "      <td>0.102807</td>\n",
       "      <td>0.991667</td>\n",
       "      <td>1.000000</td>\n",
       "      <td>2.398833e+03</td>\n",
       "      <td>8.709636e-06</td>\n",
       "      <td>0.0010</td>\n",
       "    </tr>\n",
       "    <tr>\n",
       "      <th>2291</th>\n",
       "      <td>0.113883</td>\n",
       "      <td>0.991667</td>\n",
       "      <td>0.988866</td>\n",
       "      <td>6.606934e+01</td>\n",
       "      <td>7.943282e-06</td>\n",
       "      <td>0.0001</td>\n",
       "    </tr>\n",
       "  </tbody>\n",
       "</table>\n",
       "</div>"
      ],
      "text/plain": [
       "      training_time  val_score  train_score             C         gamma  \\\n",
       "56         0.218744   0.994444     0.998608  6.606934e-01  9.549926e-04   \n",
       "1065       0.347353   0.994444     1.000000  3.467369e+02  1.737801e-03   \n",
       "1103       0.297653   0.994444     1.000000  1.905461e+00  1.659587e-03   \n",
       "125        0.342021   0.994444     1.000000  6.606934e+04  1.737801e-03   \n",
       "1860       0.337327   0.994444     1.000000  3.311311e+06  1.659587e-03   \n",
       "2285       0.119202   0.991667     1.000000  8.709636e+07  2.630268e-06   \n",
       "900        0.076256   0.991667     1.000000  1.047129e+05  1.380384e-07   \n",
       "53         0.136052   0.991667     1.000000  6.918310e+01  5.248075e-04   \n",
       "1560       0.102807   0.991667     1.000000  2.398833e+03  8.709636e-06   \n",
       "2291       0.113883   0.991667     0.988866  6.606934e+01  7.943282e-06   \n",
       "\n",
       "         tol  \n",
       "56    0.0010  \n",
       "1065  0.0001  \n",
       "1103  0.0010  \n",
       "125   0.0001  \n",
       "1860  0.0010  \n",
       "2285  0.0010  \n",
       "900   0.0100  \n",
       "53    0.0010  \n",
       "1560  0.0010  \n",
       "2291  0.0001  "
      ]
     },
     "execution_count": 26,
     "metadata": {},
     "output_type": "execute_result"
    }
   ],
   "source": [
    "mean_evaluations = results.groupby('parameters_hash').agg({\n",
    "    'train_score': np.mean,\n",
    "    'val_score': np.mean,\n",
    "    'training_time': np.mean,\n",
    "}).reset_index()\n",
    "\n",
    "all_parameters = pd.DataFrame.from_dict(list(results['parameters']))\n",
    "all_parameters['parameters_hash'] = results['parameters_hash']\n",
    "\n",
    "evaluations = (\n",
    "    mean_evaluations\n",
    "    .merge(all_parameters)\n",
    "    .drop(['parameters_hash'], axis=1)\n",
    ")\n",
    "top10 = evaluations.sort_values(\n",
    "    by='val_score', ascending=False).head(10)\n",
    "top10"
   ]
  },
  {
   "cell_type": "code",
   "execution_count": 27,
   "metadata": {
    "collapsed": false
   },
   "outputs": [
    {
     "data": {
      "image/png": "[encoded data removed]",
      "text/plain": [
       "<matplotlib.figure.Figure at 0x7ff83fe9db70>"
      ]
     },
     "metadata": {},
     "output_type": "display_data"
    }
   ],
   "source": [
    "import matplotlib.pyplot as plt\n",
    "\n",
    "def plot_param_map(df, target, title):\n",
    "    plt.xlabel('log10(C)')\n",
    "    plt.ylabel('log10(gamma)')\n",
    "    plt.xlim(-10, 10)\n",
    "    plt.ylim(-10, 10)\n",
    "    plt.scatter(np.log10(df['C']), np.log10(df['gamma']),\n",
    "                c=target,\n",
    "                marker='s', edgecolors='none',\n",
    "                s=80, alpha=1, cmap='viridis')\n",
    "    plt.colorbar()\n",
    "    plt.title(title)\n",
    "\n",
    "plt.figure(figsize=(6, 5))\n",
    "plot_param_map(evaluations, evaluations['val_score'],\n",
    "               'validation score')\n",
    "plt.scatter(np.log10(top10['C']), np.log10(top10['gamma']),\n",
    "            c='r', s=50);"
   ]
  },
  {
   "cell_type": "code",
   "execution_count": 28,
   "metadata": {
    "collapsed": false
   },
   "outputs": [
    {
     "data": {
      "image/png": "[encoded data removed]",
      "text/plain": [
       "<matplotlib.figure.Figure at 0x7ff847c0fc88>"
      ]
     },
     "metadata": {},
     "output_type": "display_data"
    }
   ],
   "source": [
    "plt.figure(figsize=(6, 5))\n",
    "plot_param_map(evaluations, evaluations['train_score'], 'train score')"
   ]
  },
  {
   "cell_type": "code",
   "execution_count": 29,
   "metadata": {
    "collapsed": false
   },
   "outputs": [
    {
     "data": {
      "image/png": "[encoded data removed]",
      "text/plain": [
       "<matplotlib.figure.Figure at 0x7ff8443829b0>"
      ]
     },
     "metadata": {},
     "output_type": "display_data"
    }
   ],
   "source": [
    "plt.figure(figsize=(6, 5))\n",
    "gap = evaluations['train_score'] - evaluations['val_score']\n",
    "plot_param_map(evaluations, gap, 'gap')"
   ]
  },
  {
   "cell_type": "code",
   "execution_count": 30,
   "metadata": {
    "collapsed": false
   },
   "outputs": [
    {
     "data": {
      "image/png": "[encoded data removed]",
      "text/plain": [
       "<matplotlib.figure.Figure at 0x7ff83ffdf320>"
      ]
     },
     "metadata": {},
     "output_type": "display_data"
    }
   ],
   "source": [
    "plt.figure(figsize=(6, 5))\n",
    "high_tol = evaluations[evaluations['tol'] == 0.1]\n",
    "\n",
    "plot_param_map(high_tol, high_tol['training_time'], 'training time (s)')\n",
    "plt.scatter(np.log10(top10['C']), np.log10(top10['gamma']),\n",
    "            c='r', s=50);"
   ]
  },
  {
   "cell_type": "markdown",
   "metadata": {},
   "source": [
    "## Scaling down"
   ]
  },
  {
   "cell_type": "markdown",
   "metadata": {},
   "source": [
    "### Single local python process, multiple threads"
   ]
  },
  {
   "cell_type": "code",
   "execution_count": 31,
   "metadata": {
    "collapsed": false
   },
   "outputs": [
    {
     "name": "stdout",
     "output_type": "stream",
     "text": [
      "CPU times: user 6.3 s, sys: 32 ms, total: 6.33 s\n",
      "Wall time: 928 ms\n"
     ]
    }
   ],
   "source": [
    "import dask\n",
    "%time _ = dask.compute(*delayed_evaluations[:10])"
   ]
  },
  {
   "cell_type": "markdown",
   "metadata": {},
   "source": [
    "### Single local python process, no parallelism"
   ]
  },
  {
   "cell_type": "code",
   "execution_count": 32,
   "metadata": {
    "collapsed": false
   },
   "outputs": [
    {
     "name": "stdout",
     "output_type": "stream",
     "text": [
      "CPU times: user 6.33 s, sys: 4 ms, total: 6.33 s\n",
      "Wall time: 6.31 s\n"
     ]
    }
   ],
   "source": [
    "from dask.async import get_sync\n",
    "\n",
    "%time _ = dask.compute(*delayed_evaluations[:10], get=get_sync)"
   ]
  },
  {
   "cell_type": "code",
   "execution_count": 33,
   "metadata": {
    "collapsed": false
   },
   "outputs": [
    {
     "name": "stdout",
     "output_type": "stream",
     "text": [
      " "
     ]
    }
   ],
   "source": [
    "%prun _ = dask.compute(*delayed_evaluations[:10], get=get_sync)"
   ]
  },
  {
   "cell_type": "code",
   "execution_count": null,
   "metadata": {
    "collapsed": true
   },
   "outputs": [],
   "source": []
  }
 ],
 "metadata": {
  "kernelspec": {
   "display_name": "Python 3",
   "language": "python",
   "name": "python3"
  },
  "language_info": {
   "codemirror_mode": {
    "name": "ipython",
    "version": 3
   },
   "file_extension": ".py",
   "mimetype": "text/x-python",
   "name": "python",
   "nbconvert_exporter": "python",
   "pygments_lexer": "ipython3",
   "version": "3.5.1"
  }
 },
 "nbformat": 4,
 "nbformat_minor": 0
}
